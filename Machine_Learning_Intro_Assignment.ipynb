{
  "nbformat": 4,
  "nbformat_minor": 0,
  "metadata": {
    "colab": {
      "provenance": []
    },
    "kernelspec": {
      "name": "python3",
      "display_name": "Python 3"
    },
    "language_info": {
      "name": "python"
    }
  },
  "cells": [
    {
      "cell_type": "markdown",
      "source": [
        "# **Machine Learning Intro Assignment**"
      ],
      "metadata": {
        "id": "uH38LgDMX_mn"
      }
    },
    {
      "cell_type": "markdown",
      "source": [
        "**Q1) Explain the differences between AI, ML, Deep Learning (DL), and Data\n",
        "Science (DS).**"
      ],
      "metadata": {
        "id": "9XADO70CYIVd"
      }
    },
    {
      "cell_type": "markdown",
      "source": [
        "- Artificial Intelligence (AI):\n",
        "  - AI is the broadest concept, aiming to create machines that can simulate human intelligence. This includes tasks like problem-solving, learning, understanding language, and perception. AI encompasses various approaches, including rule-based systems and more advanced learning methods.\n",
        "  - Its goal is to build systems that can simulate human intelligence.\n",
        "  - AI is basically the study of training your machine(computers) to mimic a human brain and its thinking capabilities.\n",
        "  - AI is the broader family consisting of ML and DL as it's components.\n",
        "  - Examples of AI applications include: Google's AI-Powered Predictions, Ridesharing Apps Like Uber and Lyft, Commercial Flights Use an AI Autopilot, etc.\n",
        "- Machine Learning (ML):\n",
        "  - Machine Learning is a subset of AI that focuses on enabling systems to learn from data without explicit programming. ML algorithms identify patterns and make predictions or decisions based on the data they have been trained on. Examples include classification, regression, and clustering.\n",
        "  - Its goal is to enable machines to learn patterns from data and make predictions/decisions.\n",
        "  -  Machine Learning is basically the study/process which provides the system(computer) to learn automatically on its own through experiences it had and improve accordingly without being explicitly programmed.\n",
        "  -  ML is an application or subset of AI.\n",
        "  - Different techniques include Supervised Learning, Unsupervised Learning, Reinforcement Learning.\\\n",
        "  - Examples of ML applications include: Virtual Personal Assistants: Siri, Alexa, Google, etc., Email Spam and Malware Filtering.\n",
        "- Deep Learning (DL):\n",
        "  - DL is a specialized subset of ML that utilizes artificial neural networks with multiple layers (deep neural networks) to learn complex patterns from large datasets. DL excels at tasks like image recognition, natural language processing, and speech recognition, often by automatically extracting relevant features from raw data.\n",
        "  - Its goal is to automatically learn complex patterns and representations from large datasets.\n",
        "  - DL is the subset of ML.\n",
        "  - More powerful than ML as it can easily work for larger sets of data.\n",
        "  - DL is a ML algorithm that uses deep(more than one layer) neural networks to analyze data and provide output accordingly.\n",
        "  - Examples of DL applications include: Sentiment based news aggregation, Image analysis and caption generation, etc.\n",
        "- Data Science (DS):\n",
        "  - DS is an interdisciplinary field that involves extracting knowledge and insights from data.\n",
        "  - Data Science encompasses a wide range of activities, including data collection, cleaning, analysis, visualization, and interpretation. While Data Science often utilizes ML and DL techniques as tools for analysis and prediction, it also incorporates statistical methods, domain expertise, and communication skills to derive meaningful conclusions and inform decision-making.\n",
        "  - Data science combines various fields. for example Statistics, Computer Science, Domain Specific Knowledge, Visualization, data engineering techniques, data quality techniques, and data profiling techniques to analyze and interpret complex data sets.\n",
        "  - Examples include: Analyzing customer purchase behavior, Business forecasting, Market basket analysis."
      ],
      "metadata": {
        "id": "cV7Qmh5GYsmc"
      }
    },
    {
      "cell_type": "markdown",
      "source": [
        "**Q2) What are the types of machine learning? Describe each with one\n",
        "real-world example.**"
      ],
      "metadata": {
        "id": "e3Amv4l2lSG2"
      }
    },
    {
      "cell_type": "markdown",
      "source": [
        "- Supervised Learning:\n",
        "  - In supervised learning, the model is trained on a dataset that has input features (X) and output labels (Y). The algorithm learns the mapping between inputs and outputs so it can predict labels for new data.\n",
        "  - In this approach, the model is trained on a dataset that contains both input features and their corresponding correct outputs (labels).\n",
        "  - The goal is to learn a mapping from inputs to outputs so it can predict outcomes for new, unseen data.\n",
        "  - Its key techniques include predicting categories i.e Classification and predicting continuos values i.e Regression.\n",
        "  - Classificationdeals with predicting categorical target variables, which represent discrete classes or labels. For instance, classifying emails as spam or not spam, or predicting whether a patient has a high risk of heart disease.\n",
        "  - Regression, on the other hand, deals with predicting continuous target variables, which represent numerical values. For example, predicting the price of a house based on its size, location, and amenities, or forecasting the sales of a product.\n",
        "  - Example: Consider a situation where you have to build an image classifier to differentiate between cats and dogs. If you feed the datasets of dogs and cats labelled images to the algorithm, the machine will learn to classify between a dog or a cat from these labeled images. When we input new dog or cat images that it has never seen before, it will use the learned algorithms and predict whether it is a dog or a cat. This is how supervised learning works, and this is particularly an image classification.\n",
        "- Unsupervised Machine Learning:\n",
        "  - In unsupervised learning, the dataset contains only input features (X) without output labels.The algorithm tries to find hidden patterns or structures in the data.\n",
        "  - Unlike supervised learning, unsupervised learning doesn't involve providing the algorithm with labeled target outputs.\n",
        "  - The primary goal of Unsupervised learning is often to discover hidden patterns, similarities, or clusters within the data, which can then be used for various purposes, such as data exploration, visualization, dimensionality reduction, and more.\n",
        "  - Its key techniques include grouping similar data points i.e. Clustering and Dimension Reduction.\n",
        "  - Clustering is the process of grouping data points into clusters based on their similarity.\n",
        "  - Dimensionality Reduction involves reducing features while preserving information.\n",
        "  - Consider that you have a dataset that contains information about the purchases you made from the shop. Through clustering, the algorithm can group the same purchasing behavior among you and other customers, which reveals potential customers without predefined labels. This type of information can help businesses get target customers as well as identify outliers.\n",
        "- Reinforcement Learning (RL):\n",
        "  - Reinforcement machine learningalgorithm is a learning method that interacts with the environment by producing actions and discovering errors.\n",
        "  - RL is based on an agent that interacts with an environment. The agent takes actions, receives rewards/penalties, and learns a strategy (policy) to maximize long-term rewards.\n",
        "  - Trial, error, and delay are the most relevant characteristics of reinforcement learning. In this technique, the model keeps on increasing its performance using Reward Feedback to learn the behavior or pattern.\n",
        "  - Reinforcement learning algorithms are common in video game development and are frequently used to teach robots how to replicate human tasks.\n",
        "  - Consider that you are training an AI agent to play a game like chess. The agent explores different moves and receives positive or negative feedback based on the outcome. Reinforcement Learning also finds applications in which they learn to perform tasks by interacting with their surroundings.\n",
        "- Semi-Supervised Learning:\n",
        "  - Semi-Supervised learningis a machine learning algorithm that works between the supervised and unsupervised learning so it uses both labelled and unlabelled data.\n",
        "  -  It's particularly useful when obtaining labeled data is costly, time-consuming, or resource-intensive. This approach is useful when the dataset is expensive and time-consuming. Semi-supervised learning is chosen when labeled data requires skills and relevant resources in order to train or learn from it.\n",
        "  - We use these techniques when we are dealing with data that is a little bit labeled and the rest large portion of it is unlabeled. We can use the unsupervised techniques to predict labels and then feed these labels to supervised techniques.\n",
        "  - Consider that we are building a language translation model, having labeled translations for every sentence pair can be resources intensive. It allows the models to learn from labeled and unlabeled sentence pairs, making them more accurate. This technique has led to significant improvements in the quality of machine translation services."
      ],
      "metadata": {
        "id": "6v6U_2rkml1o"
      }
    },
    {
      "cell_type": "markdown",
      "source": [
        "**Q3) Define overfitting, underfitting, and the bias-variance tradeoff in machine learning.**"
      ],
      "metadata": {
        "id": "mO8IeaT5pdOA"
      }
    },
    {
      "cell_type": "markdown",
      "source": [
        "- Overfitting in Machine Learning:\n",
        "  - Overfitting happens when a model learns too much from the training data, including details that don’t matter (like noise or outliers).\n",
        "  - Overfitting happens when a model learns the training data too well, including its noise and random fluctuations, making it perform poorly on unseen (test) data.\n",
        "  - Overfitting models are like students who memorize answers instead of understanding the topic.\n",
        "  - Characteristics:\n",
        "    - Very high accuracy on training data.\n",
        "    - Poor accuracy on new/unseen data.\n",
        "    - Model is too complex (too many features, parameters, or depth).\n",
        "  - This type of model has very high accuracy on training data and very poor accuracy on unseen/test data.\n",
        "  - Example:Imagine training a model to identify images of cats. If the training data primarily consists of images of cats in a specific pose, with a particular background, and under certain lighting conditions, the model might overfit. It could memorize these specific features instead of learning the general characteristics of a cat. Consequently, while it performs exceptionally well on the training images, it would likely fail to accurately identify cats in new images that differ in pose, background, or lighting, demonstrating poor generalization.\n",
        "- Underfitting in Machine Learning:\n",
        "  - Underfitting happens when a model is too simple and fails to capture the patterns in the data.\n",
        "  - Underfitting occurs when a model is too simple and fails to capture the underlying patterns in the data, leading to high bias and poor performance on both training and new data.\n",
        "  - The model makes overly simplistic assumptions about the data, failing to learn its underlying structure.\n",
        "  - This model has high bias and fails to learn the relationships between input features and output labels effectively.\n",
        "  - Characteristics:\n",
        "    - Low accuracy on both training and test data.\n",
        "    - Model has high bias (too many simplifying assumptions).\n",
        "  - Underfitting models are like student only reading the summary notes but not studying details. They fail because they didn’t learn enough.\n",
        "  - For example, imagine drawing a straight line to fit points that actually follow a curve. The line misses most of the pattern.\n",
        "  In this case, the model doesn’t work well on either the training or testing data.\n",
        "- Bias-Variance Tradeoff:\n",
        "  - The bias-variance tradeoff explains the balance between two types of errors that affect a model’s performance:\n",
        "    - Bias (Error due to wrong assumptions):\n",
        "      - Error from a model being too simple i.e it can’t capture patterns in the data.\n",
        "      - Underfitting model has high bias.\n",
        "    - Variance (Error due to sensitivity to training data):\n",
        "      - Error from a model being too complex, has lot of unwanted information.\n",
        "      - Overfitting model has higher variance.\n",
        "  = The goal of Bias-Variance Tradeoff is to find the sweet spot where the model balances low bias and low variance, achieving good generalization."
      ],
      "metadata": {
        "id": "gaJGBAw6p8NA"
      }
    },
    {
      "cell_type": "markdown",
      "source": [
        "**Q4) What are outliers in a dataset, and list three common techniques for\n",
        "handling them.**"
      ],
      "metadata": {
        "id": "2LBZkQoU_6vU"
      }
    },
    {
      "cell_type": "markdown",
      "source": [
        "- Outliers in a dataset are data points that significantly deviate from other observations. They are values that are unusually high or low compared to the majority of the data points, potentially representing errors, anomalies, or rare occurrences. Outliers can disproportionately influence statistical analyses and machine learning models, leading to skewed results and misleading conclusions.\n",
        "- Example of a outlier include: In a dataset of employee salaries where most salaries are between ₹30,000–₹80,000, a salary of ₹5,00,000 could be considered an outlier.\n",
        "- 3 Common Techniques to handle them:\n",
        "  - Removal of Outliers:\n",
        "    - This technique involves identifying and removing outlier data points from the dataset. This can be done by setting a threshold based on Z-scores or Interquartile Range (IQR) and excluding any data points that fall outside this range. While simple, this method can lead to loss of valuable information, especially if the outliers represent genuine, albeit rare, events.\n",
        "  - Transformation:\n",
        "    - This method aims to reduce the influence of outliers by applying mathematical transformations to the data. Common transformations include standardization or normalization, to bring data to a similar range, or Winsorization, which involves replacing outlier values with the nearest non-outlier value within a specified percentile range. These transformations can make the data less sensitive to extreme values without removing them entirely.\n",
        "  - Imputation or Replacement:\n",
        "    - This method aims to reduce the influence of outliers by replacing outliers with statistical values like mean, median, or mode.\n",
        "    - Median is often preferred since it is less sensitive to extreme values.\n",
        "    - Imputation ensures that we don’t lose data, but instead we smoothly replace extreme values with more “reasonable” ones.\n"
      ],
      "metadata": {
        "id": "bjoxqEATAS2l"
      }
    },
    {
      "cell_type": "code",
      "source": [
        "# The following Program shows the 3 techniques to handle the outliers.\n",
        "\n",
        "import numpy as np\n",
        "import pandas as pd\n",
        "\n",
        "data = {'Salary': [30, 32, 35, 40, 45, 50, 52, 55, 60, 1000]}  # 1000 is an outlier\n",
        "df = pd.DataFrame(data)\n",
        "print(\"Original Dataset:\\n\", df)\n",
        "\n",
        "Q1 = df['Salary'].quantile(0.25)\n",
        "Q3 = df['Salary'].quantile(0.75)\n",
        "IQR = Q3 - Q1\n",
        "\n",
        "lower_bound = Q1 - 1.5 * IQR\n",
        "upper_bound = Q3 + 1.5 * IQR\n",
        "\n",
        "outliers = df[(df['Salary'] < lower_bound) | (df['Salary'] > upper_bound)]\n",
        "print(\"\\nDetected Outliers:\\n\", outliers)\n",
        "\n",
        "df_removed = df[(df['Salary'] >= lower_bound) & (df['Salary'] <= upper_bound)]    # removing the outliers\n",
        "print(\"\\nAfter Removing Outliers:\\n\", df_removed)\n",
        "\n",
        "\n",
        "df_capped = df.copy()\n",
        "df_capped['Salary'] = np.where(df_capped['Salary'] > upper_bound, upper_bound,\n",
        "                               np.where(df_capped['Salary'] < lower_bound, lower_bound, df_capped['Salary']))  # transforamtion\n",
        "print(\"\\nAfter Capping Outliers:\\n\", df_capped)\n",
        "\n",
        "median_value = df['Salary'].median()\n",
        "df_imputed = df.copy()\n",
        "df_imputed['Salary'] = np.where((df_imputed['Salary'] > upper_bound) | (df_imputed['Salary'] < lower_bound),\n",
        "                                median_value, df_imputed['Salary'])                               # imputation with the median\n",
        "print(\"\\nAfter Replacing Outliers with Median:\\n\", df_imputed)\n"
      ],
      "metadata": {
        "colab": {
          "base_uri": "https://localhost:8080/"
        },
        "id": "4Ioxju7ICXjs",
        "outputId": "7165c453-99c8-4c82-95c7-603729cd4a17"
      },
      "execution_count": 27,
      "outputs": [
        {
          "output_type": "stream",
          "name": "stdout",
          "text": [
            "Original Dataset:\n",
            "    Salary\n",
            "0      30\n",
            "1      32\n",
            "2      35\n",
            "3      40\n",
            "4      45\n",
            "5      50\n",
            "6      52\n",
            "7      55\n",
            "8      60\n",
            "9    1000\n",
            "\n",
            "Detected Outliers:\n",
            "    Salary\n",
            "9    1000\n",
            "\n",
            "After Removing Outliers:\n",
            "    Salary\n",
            "0      30\n",
            "1      32\n",
            "2      35\n",
            "3      40\n",
            "4      45\n",
            "5      50\n",
            "6      52\n",
            "7      55\n",
            "8      60\n",
            "\n",
            "After Capping Outliers:\n",
            "    Salary\n",
            "0   30.00\n",
            "1   32.00\n",
            "2   35.00\n",
            "3   40.00\n",
            "4   45.00\n",
            "5   50.00\n",
            "6   52.00\n",
            "7   55.00\n",
            "8   60.00\n",
            "9   81.25\n",
            "\n",
            "After Replacing Outliers with Median:\n",
            "    Salary\n",
            "0    30.0\n",
            "1    32.0\n",
            "2    35.0\n",
            "3    40.0\n",
            "4    45.0\n",
            "5    50.0\n",
            "6    52.0\n",
            "7    55.0\n",
            "8    60.0\n",
            "9    47.5\n"
          ]
        }
      ]
    },
    {
      "cell_type": "markdown",
      "source": [
        "**Q5) Explain the process of handling missing values and mention one\n",
        "imputation technique for numerical and one for categorical data.**"
      ],
      "metadata": {
        "id": "DCJqSwlvDGcT"
      }
    },
    {
      "cell_type": "markdown",
      "source": [
        "- Handling missing values is a crucial step in data preprocessing to ensure the quality and reliability of data analysis and machine learning models. The process involves identifying missing values and then employing strategies to address them.\n",
        "- Process of Handling Missing Values:\n",
        "  - Identification:\n",
        "  The first step is to identify the presence and extent of missing values in the dataset. This can be done by checking for null values, NaNs (Not a Number), or other designated missing value indicators within each feature.\n",
        "  - Understanding Missingness Patterns:\n",
        "    - MCAR (Missing Completely at Random): Missing without any pattern.\n",
        "    - MAR (Missing at Random): Missing depends on other observed values.\n",
        "    - MNAR (Missing Not at Random): Missing depends on unobserved values.\n",
        "- Choosing a Strategy:\n",
        "    - Deletion: Removing rows or columns containing missing values. This can be effective for a small number of missing values but risks losing valuable information if the missingness is extensive.\n",
        "    - Imputation: Replacing missing values with estimated or substituted values. This is generally preferred as it preserves more data.\n",
        "    - Advanced Techniques: For complex scenarios, techniques like creating \"missingness indicators\" or using machine learning models to predict missing values can be employed.\n",
        "- Imputation Techniques:\n",
        "  - Numerical Data Imputation:\n",
        "  Missing numerical values are replaced with either the mean or the median of the non-missing values in that specific column. Mostly median is preferred over mean because median is prone to outliers.\n",
        "  - Categorical Data Imputation:\n",
        "  Missing categorical values are replaced with the mode (most frequent category) of the non-missing values in that specific column."
      ],
      "metadata": {
        "id": "Ci2ZAMqKDnze"
      }
    },
    {
      "cell_type": "code",
      "source": [
        "# The following program shows handling of missing values\n",
        "\n",
        "import pandas as pd\n",
        "import numpy as np\n",
        "import warnings\n",
        "warnings.filterwarnings(\"ignore\")\n",
        "data = {\n",
        "    'Age': [25, 30, np.nan, 35, 40, np.nan, 28],\n",
        "    'Gender': ['Male', 'Female', np.nan, 'Male', 'Male', 'Female', np.nan]\n",
        "}\n",
        "df = pd.DataFrame(data)\n",
        "\n",
        "print(\"Original Dataset with Missing Values:\\n\", df)\n",
        "\n",
        "df['Age'].fillna(df['Age'].median(), inplace=True)        # median imputation\n",
        "df['Gender'].fillna(df['Gender'].mode()[0], inplace=True)  # mode imputation\n",
        "\n",
        "print(\"\\nDataset After Handling Missing Values:\\n\", df)"
      ],
      "metadata": {
        "colab": {
          "base_uri": "https://localhost:8080/"
        },
        "id": "2DcCxEGsHTZF",
        "outputId": "0d9a7f79-9350-44de-8ffb-8f9ecf8fa31a"
      },
      "execution_count": 38,
      "outputs": [
        {
          "output_type": "stream",
          "name": "stdout",
          "text": [
            "Original Dataset with Missing Values:\n",
            "     Age  Gender\n",
            "0  25.0    Male\n",
            "1  30.0  Female\n",
            "2   NaN     NaN\n",
            "3  35.0    Male\n",
            "4  40.0    Male\n",
            "5   NaN  Female\n",
            "6  28.0     NaN\n",
            "\n",
            "Dataset After Handling Missing Values:\n",
            "     Age  Gender\n",
            "0  25.0    Male\n",
            "1  30.0  Female\n",
            "2  30.0    Male\n",
            "3  35.0    Male\n",
            "4  40.0    Male\n",
            "5  30.0  Female\n",
            "6  28.0    Male\n"
          ]
        }
      ]
    },
    {
      "cell_type": "markdown",
      "source": [
        "**Q6) Write a Python program that:\n",
        "● Creates a synthetic imbalanced dataset with make_classification() from\n",
        "sklearn.datasets.\n",
        "● Prints the class distribution.**"
      ],
      "metadata": {
        "id": "d4UhBPWJw2Qk"
      }
    },
    {
      "cell_type": "code",
      "source": [
        "import numpy as np\n",
        "from sklearn.datasets import make_classification\n",
        "from collections import Counter\n",
        "\n",
        "X, y = make_classification(n_classes=2, class_sep=2, weights=[0.1, 0.9],\n",
        "                           n_informative=3, n_redundant=1, flip_y=0,\n",
        "                           n_features=20, n_clusters_per_class=1,\n",
        "                           n_samples=1000, random_state=42)\n",
        "\n",
        "print(\"Original class distribution:\", Counter(y))\n",
        "class_distribution=Counter(y)\n",
        "\n",
        "total = len(y)\n",
        "for cls, count in class_distribution.items():\n",
        "    print(f\"Class {cls}: {count} samples ({(count/total)*100:.2f}%)\")"
      ],
      "metadata": {
        "id": "uAZ8c95JpjRN",
        "colab": {
          "base_uri": "https://localhost:8080/"
        },
        "outputId": "658e464c-b7bb-443b-de66-30c6292496b5"
      },
      "execution_count": 8,
      "outputs": [
        {
          "output_type": "stream",
          "name": "stdout",
          "text": [
            "Original class distribution: Counter({np.int64(1): 900, np.int64(0): 100})\n",
            "Class 1: 900 samples (90.00%)\n",
            "Class 0: 100 samples (10.00%)\n"
          ]
        }
      ]
    },
    {
      "cell_type": "markdown",
      "source": [
        "**Q7) Implement one-hot encoding using pandas for the following list of colors:\n",
        "['Red', 'Green', 'Blue', 'Green', 'Red']. Print the resulting dataframe**"
      ],
      "metadata": {
        "id": "qlJ-D45dzCj7"
      }
    },
    {
      "cell_type": "code",
      "source": [
        "import pandas as pd\n",
        "\n",
        "colors = ['Red', 'Green', 'Blue', 'Green', 'Red']\n",
        "colors_series = pd.Series(colors)\n",
        "one_hot_encoded_df = pd.get_dummies(colors_series, prefix='Color')\n",
        "print(one_hot_encoded_df)"
      ],
      "metadata": {
        "colab": {
          "base_uri": "https://localhost:8080/"
        },
        "id": "n_xQJQVCzLmG",
        "outputId": "33bba770-55c8-4605-f75e-e547f1dd8fc4"
      },
      "execution_count": 11,
      "outputs": [
        {
          "output_type": "stream",
          "name": "stdout",
          "text": [
            "   Color_Blue  Color_Green  Color_Red\n",
            "0       False        False       True\n",
            "1       False         True      False\n",
            "2        True        False      False\n",
            "3       False         True      False\n",
            "4       False        False       True\n"
          ]
        }
      ]
    },
    {
      "cell_type": "markdown",
      "source": [
        "**Q8) Write a Python script to:\n",
        "● Generate 1000 samples from a normal distribution.\n",
        "● Introduce 50 random missing values.\n",
        "● Fill missing values with the column mean.\n",
        "● Plot a histogram before and after imputation.**"
      ],
      "metadata": {
        "id": "xcVEy1vA192l"
      }
    },
    {
      "cell_type": "code",
      "source": [
        "import numpy as np\n",
        "import matplotlib.pyplot as plt\n",
        "import random\n",
        "\n",
        "data = np.random.normal(loc=50, scale=10, size=1000)\n",
        "\n",
        "missing_indices = random.sample(range(1000), 50)\n",
        "data_with_nan = data.copy()\n",
        "data_with_nan[missing_indices] = np.nan\n",
        "\n",
        "mean_value = np.nanmean(data_with_nan)\n",
        "data_imputed = np.where(np.isnan(data_with_nan), mean_value, data_with_nan)\n",
        "\n",
        "plt.figure(figsize=(12,5))\n",
        "\n",
        "plt.subplot(1,2,1)\n",
        "plt.hist(data_with_nan[~np.isnan(data_with_nan)], bins=30, edgecolor='black')\n",
        "plt.title(\"Before Imputation\")\n",
        "plt.xlabel(\"Value\")\n",
        "plt.ylabel(\"Frequency\")\n",
        "\n",
        "plt.subplot(1,2,2)\n",
        "plt.hist(data_imputed, bins=30, edgecolor='black')\n",
        "plt.title(\"After Imputation (Mean Filled)\")\n",
        "plt.xlabel(\"Value\")\n",
        "plt.ylabel(\"Frequency\")\n",
        "\n",
        "plt.show()"
      ],
      "metadata": {
        "colab": {
          "base_uri": "https://localhost:8080/",
          "height": 487
        },
        "id": "rBYyoFrFzyhT",
        "outputId": "a0438312-3a43-43f5-ac6b-dc8f9033a0ec"
      },
      "execution_count": 17,
      "outputs": [
        {
          "output_type": "display_data",
          "data": {
            "text/plain": [
              "<Figure size 1200x500 with 2 Axes>"
            ],
            "image/png": "[encoded data removed]"
          },
          "metadata": {}
        }
      ]
    },
    {
      "cell_type": "markdown",
      "source": [
        "**Q9) Implement Min-Max scaling on the following list of numbers [2, 5, 10, 15,\n",
        "20] using sklearn.preprocessing.MinMaxScaler. Print the scaled array.**"
      ],
      "metadata": {
        "id": "wt9s8HuH2bB4"
      }
    },
    {
      "cell_type": "code",
      "source": [
        "import numpy as np\n",
        "from sklearn.preprocessing import MinMaxScaler\n",
        "\n",
        "data = [2, 5, 10, 15, 20]\n",
        "\n",
        "data_new = np.array(data).reshape(-1, 1)\n",
        "scaler = MinMaxScaler()\n",
        "\n",
        "scaled_data = scaler.fit_transform(data_new)\n",
        "print(\"Scaled array:\", scaled_data)"
      ],
      "metadata": {
        "colab": {
          "base_uri": "https://localhost:8080/"
        },
        "id": "b11ur9Ne1qZ5",
        "outputId": "805ed8a6-ca4f-49b7-a3cd-529bcbcafe40"
      },
      "execution_count": 39,
      "outputs": [
        {
          "output_type": "stream",
          "name": "stdout",
          "text": [
            "Scaled array: [[0.        ]\n",
            " [0.16666667]\n",
            " [0.44444444]\n",
            " [0.72222222]\n",
            " [1.        ]]\n"
          ]
        }
      ]
    },
    {
      "cell_type": "markdown",
      "source": [
        "**Q10) You are working as a data scientist for a retail company. You receive a customer\n",
        "transaction dataset that contains:\n",
        "● Missing ages,\n",
        "● Outliers in transaction amount,\n",
        "● A highly imbalanced target (fraud vs. non-fraud),\n",
        "● Categorical variables like payment method.**\n",
        "\n",
        "**Explain the step-by-step data preparation plan you’d follow before training a machine learning model. Include how you’d address missing data, outliers, imbalance, and encoding.**\n"
      ],
      "metadata": {
        "id": "-fV9XOkuLJug"
      }
    },
    {
      "cell_type": "code",
      "source": [
        "import pandas as pd\n",
        "import numpy as np\n",
        "from sklearn.preprocessing import OneHotEncoder, StandardScaler\n",
        "from imblearn.over_sampling import SMOTE, RandomOverSampler\n",
        "from collections import Counter\n",
        "\n",
        "data = {\n",
        "    'age': [25, 32, np.nan, 45, 50, 28, 65, 38, np.nan, 41, 999],\n",
        "    'transaction_amount': [100, 150, 200, 250, 300, 350, 500, 750, 800, 1000, 50000],\n",
        "    'payment_method': ['credit_card', 'debit_card', 'paypal', 'credit_card', 'debit_card',\n",
        "                       'paypal', 'credit_card', 'debit_card', 'credit_card', 'paypal', 'credit_card'],\n",
        "    'is_fraud': [0, 0, 0, 0, 0, 0, 0, 0, 0, 0, 1]\n",
        "}\n",
        "df = pd.DataFrame(data)\n",
        "\n",
        "df['age'].fillna(df['age'].median(skipna=True), inplace=True)\n",
        "\n",
        "\n",
        "Q1 = df['transaction_amount'].quantile(0.25)\n",
        "Q3 = df['transaction_amount'].quantile(0.75)\n",
        "IQR = Q3 - Q1\n",
        "lower_bound = Q1 - 1.5 * IQR\n",
        "upper_bound = Q3 + 1.5 * IQR\n",
        "df['transaction_amount'] = df['transaction_amount'].clip(lower=lower_bound, upper=upper_bound)\n",
        "\n",
        "\n",
        "encoder = OneHotEncoder(sparse_output=False, handle_unknown='ignore')\n",
        "enc = encoder.fit_transform(df[['payment_method']])\n",
        "enc_cols = encoder.get_feature_names_out(['payment_method'])\n",
        "enc_df = pd.DataFrame(enc, columns=enc_cols, index=df.index)\n",
        "df = pd.concat([df.drop('payment_method', axis=1), enc_df], axis=1)\n",
        "\n",
        "print(\"Before resampling class counts:\", Counter(df['is_fraud']))\n",
        "\n",
        "\n",
        "X = df.drop('is_fraud', axis=1)\n",
        "y = df['is_fraud']\n",
        "\n",
        "n_min = y.value_counts().min()\n",
        "if n_min < 2:\n",
        "    print(f\"Minority class has only {n_min} sample(s). Using RandomOverSampler instead of SMOTE.\")\n",
        "    ros = RandomOverSampler(random_state=42)\n",
        "    X_res_np, y_res_np = ros.fit_resample(X, y)\n",
        "else:\n",
        "    k = min(5, n_min - 1)\n",
        "    print(f\"Using SMOTE with k_neighbors={k} (minority samples = {n_min}).\")\n",
        "    smote = SMOTE(random_state=42, k_neighbors=k)\n",
        "    X_res_np, y_res_np = smote.fit_resample(X, y)\n",
        "\n",
        "X_res = pd.DataFrame(X_res_np, columns=X.columns)\n",
        "y_res = pd.Series(y_res_np, name='is_fraud')\n",
        "\n",
        "print(\"After resampling class counts:\", Counter(y_res))\n",
        "num_cols = [c for c in ['age', 'transaction_amount'] if c in X_res.columns]\n",
        "scaler = StandardScaler()\n",
        "X_res[num_cols] = scaler.fit_transform(X_res[num_cols])\n",
        "\n",
        "print(\"\\nFinal preprocessed (resampled) data head:\")\n",
        "print(X_res.head())\n",
        "print(\"\\nFinal target distribution:\", Counter(y_res))\n"
      ],
      "metadata": {
        "colab": {
          "base_uri": "https://localhost:8080/"
        },
        "id": "wDdf5rkPLJPO",
        "outputId": "c8d1be88-08a5-4736-a566-b57d03f12e31"
      },
      "execution_count": 47,
      "outputs": [
        {
          "output_type": "stream",
          "name": "stdout",
          "text": [
            "Before resampling class counts: Counter({0: 10, 1: 1})\n",
            "Minority class has only 1 sample(s). Using RandomOverSampler instead of SMOTE.\n",
            "After resampling class counts: Counter({0: 10, 1: 10})\n",
            "\n",
            "Final preprocessed (resampled) data head:\n",
            "        age  transaction_amount  payment_method_credit_card  \\\n",
            "0 -1.032421           -1.493223                         1.0   \n",
            "1 -1.017815           -1.412070                         0.0   \n",
            "2 -0.999036           -1.330916                         0.0   \n",
            "3 -0.990690           -1.249763                         1.0   \n",
            "4 -0.980257           -1.168609                         0.0   \n",
            "\n",
            "   payment_method_debit_card  payment_method_paypal  \n",
            "0                        0.0                    0.0  \n",
            "1                        1.0                    0.0  \n",
            "2                        0.0                    1.0  \n",
            "3                        0.0                    0.0  \n",
            "4                        1.0                    0.0  \n",
            "\n",
            "Final target distribution: Counter({0: 10, 1: 10})\n"
          ]
        }
      ]
    }
  ]
}